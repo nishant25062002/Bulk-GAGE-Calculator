{
 "cells": [
  {
   "cell_type": "code",
   "execution_count": 1,
   "id": "9fa10ce6-2718-40f3-80b5-9ee944d4049c",
   "metadata": {},
   "outputs": [
    {
     "name": "stdout",
     "output_type": "stream",
     "text": [
      "✅ Excel saved with 2837 midpoints → C:\\Users\\mainw\\Downloads\\CHANNELMID_POINTS.xlsx\n"
     ]
    }
   ],
   "source": [
    "import zipfile\n",
    "from lxml import etree\n",
    "from shapely.geometry import LineString\n",
    "from openpyxl import Workbook\n",
    "\n",
    "# File paths\n",
    "kmz_file_path = r'C:\\Users\\mainw\\Downloads\\11 Apr Offsets.kmz'\n",
    "output_excel_file_path = r'C:\\Users\\mainw\\Downloads\\CHANNELMID_POINTS.xlsx'\n",
    "\n",
    "def extract_kml_from_kmz(kmz_path):\n",
    "    with zipfile.ZipFile(kmz_path, 'r') as kmz:\n",
    "        for name in kmz.namelist():\n",
    "            if name.endswith('.kml'):\n",
    "                return kmz.read(name)\n",
    "    return None\n",
    "\n",
    "def get_linestring_midpoints_from_kml(kml_bytes):\n",
    "    # Parse KML using lxml\n",
    "    ns = {'kml': 'http://www.opengis.net/kml/2.2'}\n",
    "    root = etree.fromstring(kml_bytes)\n",
    "\n",
    "    midpoints = []\n",
    "\n",
    "    # Find all LineString coordinate sets\n",
    "    for linestring in root.findall('.//kml:LineString', namespaces=ns):\n",
    "        coords_text = linestring.findtext('kml:coordinates', namespaces=ns)\n",
    "        if not coords_text:\n",
    "            continue\n",
    "\n",
    "        # Clean and parse coordinates\n",
    "        coords = []\n",
    "        for line in coords_text.strip().split():\n",
    "            parts = line.split(',')\n",
    "            if len(parts) >= 2:\n",
    "                lon, lat = float(parts[0]), float(parts[1])\n",
    "                coords.append((lon, lat))\n",
    "\n",
    "        # Calculate midpoint if we have enough points\n",
    "        if len(coords) >= 2:\n",
    "            line = LineString(coords)\n",
    "            midpoint = line.interpolate(0.5, normalized=True)\n",
    "            midpoints.append(f\"({midpoint.x}, {midpoint.y})\")\n",
    "\n",
    "    return midpoints\n",
    "\n",
    "def save_to_excel(midpoints, output_path):\n",
    "    wb = Workbook()\n",
    "    ws = wb.active\n",
    "    ws.title = 'Midpoints'\n",
    "    ws.append([\"Midpoint (Lon, Lat)\"])\n",
    "\n",
    "    for point in midpoints:\n",
    "        ws.append([point])\n",
    "\n",
    "    wb.save(output_path)\n",
    "    print(f\"✅ Excel saved with {len(midpoints)} midpoints → {output_path}\")\n",
    "\n",
    "# Main flow\n",
    "kml_data = extract_kml_from_kmz(kmz_file_path)\n",
    "if kml_data:\n",
    "    midpoints = get_linestring_midpoints_from_kml(kml_data)\n",
    "    save_to_excel(midpoints, output_excel_file_path)\n",
    "else:\n",
    "    print(\"❌ Could not find KML inside KMZ.\")"
   ]
  },
  {
   "cell_type": "code",
   "execution_count": null,
   "id": "f446bf05-560d-4936-ae89-4d285b8724a8",
   "metadata": {},
   "outputs": [],
   "source": []
  }
 ],
 "metadata": {
  "kernelspec": {
   "display_name": "Python 3 (ipykernel)",
   "language": "python",
   "name": "python3"
  },
  "language_info": {
   "codemirror_mode": {
    "name": "ipython",
    "version": 3
   },
   "file_extension": ".py",
   "mimetype": "text/x-python",
   "name": "python",
   "nbconvert_exporter": "python",
   "pygments_lexer": "ipython3",
   "version": "3.12.6"
  }
 },
 "nbformat": 4,
 "nbformat_minor": 5
}
